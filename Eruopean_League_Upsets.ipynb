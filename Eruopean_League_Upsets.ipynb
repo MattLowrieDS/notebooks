{
  "nbformat": 4,
  "nbformat_minor": 0,
  "metadata": {
    "colab": {
      "name": "Eruopean_League_Upsets.ipynb",
      "version": "0.3.2",
      "provenance": [],
      "include_colab_link": true
    },
    "kernelspec": {
      "name": "python3",
      "display_name": "Python 3"
    }
  },
  "cells": [
    {
      "cell_type": "markdown",
      "metadata": {
        "id": "view-in-github",
        "colab_type": "text"
      },
      "source": [
        "<a href=\"https://colab.research.google.com/github/MattLowrieDS/notebooks/blob/master/Eruopean_League_Upsets.ipynb\" target=\"_parent\"><img src=\"https://colab.research.google.com/assets/colab-badge.svg\" alt=\"Open In Colab\"/></a>"
      ]
    },
    {
      "cell_type": "markdown",
      "metadata": {
        "id": "9Omc4yEHztXB",
        "colab_type": "text"
      },
      "source": [
        "# Upset percentages in European leagues\n",
        "\n",
        "In discussing the results of my [last analysis](https://nbviewer.jupyter.org/github/MattLowrieDS/notebooks/blob/master/Promotion_Position.ipynb) with my soccer group, the question of which European league is harder for newly promoted teams came up. This got me thinking about how balanced leagues are overall.\n",
        "\n",
        "One idea I pursued here, is to use the percentage of upsets as a measure of how balanced any particular league is, with the expectation that leagues with more \"upset\" results are more balanced than leagues where the expected team always wins. First though I had to determine what constitutes an \"upset\".\n",
        "\n",
        "My initial thought was to track how often a lower ranked team in the league table beats a higher ranked team. However this method could be skewed during the first several weeks of league play, in that favored teams with harder initial schedules could be ranked lower in the table.\n",
        "\n",
        "However, since www.football-data.co.uk provides historical betting data for every match, I decided to use the approach of using betting odds to track whether a team was favored or not for each match."
      ]
    },
    {
      "cell_type": "code",
      "metadata": {
        "id": "3xwdGQxZiLel",
        "colab_type": "code",
        "colab": {}
      },
      "source": [
        "import pandas as pd\n",
        "\n",
        "# Import data from football-data.co.uk\n",
        "data = {'EPL': {}, 'La Liga': {}, 'Bundesliga': {}, 'Serie A': {}, 'Ligue 1': {}}\n",
        "# Import CSV data from 2018 through 2009\n",
        "for n in range(18, 8, -1):\n",
        "  data['EPL']['20{:02d}'.format(n)] = pd.read_csv('https://www.football-data.co.uk/mmz4281/{:02d}{:02d}/E0.csv'.format(n, n+1))\n",
        "  data['La Liga']['20{:02d}'.format(n)] = pd.read_csv('https://www.football-data.co.uk/mmz4281/{:02d}{:02d}/SP1.csv'.format(n, n+1))\n",
        "  data['Bundesliga']['20{:02d}'.format(n)] = pd.read_csv('https://www.football-data.co.uk/mmz4281/{:02d}{:02d}/D1.csv'.format(n, n+1))\n",
        "  data['Serie A']['20{:02d}'.format(n)] = pd.read_csv('https://www.football-data.co.uk/mmz4281/{:02d}{:02d}/I1.csv'.format(n, n+1))\n",
        "  data['Ligue 1']['20{:02d}'.format(n)] = pd.read_csv('https://www.football-data.co.uk/mmz4281/{:02d}{:02d}/F1.csv'.format(n, n+1))\n",
        "\n",
        "# Counting backwards ...\n",
        "start_season = 2018\n",
        "end_season = 2009"
      ],
      "execution_count": 0,
      "outputs": []
    },
    {
      "cell_type": "code",
      "metadata": {
        "id": "eXSXor9JBzmg",
        "colab_type": "code",
        "colab": {}
      },
      "source": [
        "import collections\n",
        "\n",
        "# Returns the most common prediction with the lowest odds as a letter,\n",
        "# either home team favored (H), draw (D), or away team favored (A)\n",
        "def get_odds_consensus(row):\n",
        "  odds = ''\n",
        "  # Bet365\n",
        "  bets = (row['B365H'], row['B365D'], row['B365A'])\n",
        "  odds += ('H', 'D', 'A')[bets.index(min(bets))]\n",
        "  # Bet&Win\n",
        "  bets = (row['BWH'], row['BWD'], row['BWA'])\n",
        "  odds += ('H', 'D', 'A')[bets.index(min(bets))]\n",
        "  # Interwetten\n",
        "  bets = (row['IWH'], row['IWD'], row['IWA'])\n",
        "  odds += ('H', 'D', 'A')[bets.index(min(bets))]\n",
        "  # Pinnacle\n",
        "  # Check if Pinnacle exists first since it is missing from some rows\n",
        "  if 'PSH' in row:\n",
        "    bets = (row['PSH'], row['PSD'], row['PSA'])\n",
        "    odds += ('H', 'D', 'A')[bets.index(min(bets))]\n",
        "  # William Hill\n",
        "  bets = (row['WHH'], row['WHD'], row['WHA'])\n",
        "  odds += ('H', 'D', 'A')[bets.index(min(bets))]\n",
        "  # VC Bet\n",
        "  bets = (row['VCH'], row['VCD'], row['VCA'])\n",
        "  odds += ('H', 'D', 'A')[bets.index(min(bets))]\n",
        "  return collections.Counter(odds).most_common()[0][0]\n"
      ],
      "execution_count": 0,
      "outputs": []
    },
    {
      "cell_type": "code",
      "metadata": {
        "id": "77VOeuf10vZy",
        "colab_type": "code",
        "colab": {}
      },
      "source": [
        "# Collect the predicted winner and actual winner of every match\n",
        "leag = []\n",
        "year = []\n",
        "pred = []\n",
        "actu = []\n",
        "for league, season_dict in data.items():\n",
        "  for season, df in season_dict.items():\n",
        "    for _, row in df.iterrows():\n",
        "      leag.append(league)\n",
        "      year.append(season)\n",
        "      cons = get_odds_consensus(row)\n",
        "      pred.append(cons)\n",
        "      actu.append(row['FTR'])\n",
        "\n",
        "# Predicted/Actual DataFrame\n",
        "pa_df = pd.DataFrame({\n",
        "    'League': leag,\n",
        "    'Season': year,\n",
        "    'Predicted': pred,\n",
        "    'Actual': actu,\n",
        "})"
      ],
      "execution_count": 0,
      "outputs": []
    },
    {
      "cell_type": "markdown",
      "metadata": {
        "id": "rAbRzAj24O1I",
        "colab_type": "text"
      },
      "source": [
        "One interesting discovery out of this dataset, is that odds makers never predict a draw, and haven't done so since 2012 in Serie A."
      ]
    },
    {
      "cell_type": "code",
      "metadata": {
        "id": "8MNaKzRzb3oG",
        "colab_type": "code",
        "outputId": "f1611954-31a0-4475-dd2c-c6f3ad04b528",
        "colab": {
          "base_uri": "https://localhost:8080/",
          "height": 459
        }
      },
      "source": [
        "print('Number of matches where a draw was predicted: {}'.format(len(pa_df.loc[pa_df['Predicted'] == 'D',])))\n",
        "print(pa_df.loc[pa_df['Predicted'] == 'D',])"
      ],
      "execution_count": 0,
      "outputs": [
        {
          "output_type": "stream",
          "text": [
            "Number of matches where a draw was predicted: 24\n",
            "        League Season Predicted Actual\n",
            "13273  Serie A   2012         D      D\n",
            "13283  Serie A   2012         D      D\n",
            "13291  Serie A   2012         D      H\n",
            "13296  Serie A   2012         D      A\n",
            "13302  Serie A   2012         D      D\n",
            "13305  Serie A   2012         D      D\n",
            "13645  Serie A   2011         D      H\n",
            "13669  Serie A   2011         D      H\n",
            "13696  Serie A   2011         D      A\n",
            "14011  Serie A   2010         D      A\n",
            "14020  Serie A   2010         D      D\n",
            "14029  Serie A   2010         D      A\n",
            "14033  Serie A   2010         D      H\n",
            "14037  Serie A   2010         D      A\n",
            "14050  Serie A   2010         D      H\n",
            "14073  Serie A   2010         D      D\n",
            "14085  Serie A   2010         D      D\n",
            "14388  Serie A   2009         D      D\n",
            "14399  Serie A   2009         D      H\n",
            "14408  Serie A   2009         D      A\n",
            "14425  Serie A   2009         D      D\n",
            "14439  Serie A   2009         D      H\n",
            "14440  Serie A   2009         D      D\n",
            "17119  Ligue 1   2012         D      D\n"
          ],
          "name": "stdout"
        }
      ]
    },
    {
      "cell_type": "code",
      "metadata": {
        "id": "h_izS7aHfB62",
        "colab_type": "code",
        "colab": {}
      },
      "source": [
        "from operator import itemgetter\n",
        "\n",
        "# Create a lookup table of the data we want to chart\n",
        "lookup = {}\n",
        "for leag in ['EPL', 'La Liga', 'Serie A', 'Bundesliga', 'Ligue 1']:\n",
        "  lookup[leag] = {}\n",
        "  for year in range(start_season, end_season-1, -1):\n",
        "    lookup[leag][year] = {}\n",
        "    for pred in ('Predicted Home Win', 'Predicted Draw', 'Predicted Away Win'):\n",
        "      lookup[leag][year][pred] = {}\n",
        "      # Gets the first character after the \"Predicted \" string, either \"H\", \"D\" or \"A\"\n",
        "      predicted = pred[len('Predicted ')]\n",
        "      for actu in 'HDA':\n",
        "        # Collect the number of matches each season for the predicted outcome/actual outcome pair\n",
        "        val = len(\n",
        "            pa_df.loc[\n",
        "                (pa_df['League'] == leag) &\n",
        "                (pa_df['Season'] == str(year)) &\n",
        "                (pa_df['Predicted'] == predicted) &\n",
        "                (pa_df['Actual'] == actu),])\n",
        "        lookup[leag][year][pred][actu] = val\n",
        "      # Now aggregate values for the prediction row\n",
        "      row_total = sum(lookup[leag][year][pred].values())\n",
        "      lookup[leag][year][pred]['row total'] = row_total\n",
        "      if 'Home' in pred:\n",
        "        favored = lookup[leag][year][pred]['H']\n",
        "        upset_sum = sum(itemgetter('D', 'A')(lookup[leag][year][pred]))\n",
        "      elif 'Draw' in pred:\n",
        "        favored = lookup[leag][year][pred]['D']\n",
        "        upset_sum = sum(itemgetter('H', 'A')(lookup[leag][year][pred]))\n",
        "      else:\n",
        "        favored = lookup[leag][year][pred]['A']\n",
        "        upset_sum = sum(itemgetter('H', 'D')(lookup[leag][year][pred]))\n",
        "      lookup[leag][year][pred]['upset total'] = upset_sum\n",
        "      lookup[leag][year][pred]['favored win pct'] = favored / row_total * 100 if row_total else None\n",
        "      lookup[leag][year][pred]['upset pct'] = upset_sum / row_total * 100 if row_total else None"
      ],
      "execution_count": 0,
      "outputs": []
    },
    {
      "cell_type": "code",
      "metadata": {
        "id": "febfbhe6LFt2",
        "colab_type": "code",
        "colab": {}
      },
      "source": [
        "from operator import itemgetter\n",
        "\n",
        "css_cls = {'Predicted Home Win': {'H': 'bkgnd_green', 'D': 'bkgnd_red', 'A': 'bkgnd_red'},\n",
        "           'Predicted Draw': {'H': 'bkgnd_red', 'D': 'bkgnd_green', 'A': 'bkgnd_red'},\n",
        "           'Predicted Away Win': {'H': 'bkgnd_red', 'D': 'bkgnd_red', 'A': 'bkgnd_green'}}\n",
        "\n",
        "# Create an HTML table to display the raw data\n",
        "html = '<table>'\n",
        "for leag in lookup.keys():\n",
        "  for year in lookup[leag].keys():\n",
        "    html += ('<thead><th>{} {}</th>'.format(leag, year) +\n",
        "             '<th>Actual Home Win</th>' +\n",
        "             '<th>Actual Draw</th>' +\n",
        "             '<th>Actual Away Win</th>' +\n",
        "             '<th>Upsets</th>' +\n",
        "             '<th>Favored Won Pct</th>' +\n",
        "             '<th>Upset Pct</th>' +\n",
        "             '</thead><tbody>')\n",
        "    for pred in lookup[leag][year].keys():\n",
        "      # Many seasons do not have predictions for draws, so ignore adding the row to the table\n",
        "      if lookup[leag][year][pred]['row total']:\n",
        "        html += '<tr><td>' + pred + '</td>'\n",
        "        for actu in 'HDA':\n",
        "          val = lookup[leag][year][pred][actu]\n",
        "          html += ('<td class=\"{}\">{}</td>'.format(css_cls[pred][actu], val))\n",
        "        html += '<td>{}</td>'.format(lookup[leag][year][pred]['upset total'])\n",
        "        html += '<td>{:.2f}%</td>'.format(lookup[leag][year][pred]['favored win pct'])\n",
        "        html += '<td>{:.2f}%</td>'.format(lookup[leag][year][pred]['upset pct'])\n",
        "        html += '</tr>'\n",
        "html += '</table>'\n"
      ],
      "execution_count": 0,
      "outputs": []
    },
    {
      "cell_type": "code",
      "metadata": {
        "id": "eF985yBrHc0Y",
        "colab_type": "code",
        "outputId": "530ffa3b-b529-429a-e009-187eb42c047a",
        "colab": {
          "base_uri": "https://localhost:8080/",
          "height": 1000
        }
      },
      "source": [
        "from IPython.display import display, HTML\n",
        "\n",
        "style = \"\"\"\n",
        "<style> \n",
        "html {\n",
        "  font-family: sans-serif;\n",
        "}\n",
        "table {\n",
        "  border-collapse: collapse;\n",
        "  border: 1px solid black;\n",
        "}\n",
        "td, th {\n",
        "  border: 1px solid rgb(190,190,190);\n",
        "  padding: 10px 20px;\n",
        "  text-align: left;\n",
        "}\n",
        "th {\n",
        "  background-color: rgb(196, 219, 239);\n",
        "}\n",
        "td.bkgnd_green {\n",
        "  background-color: #d9ead3;\n",
        "}\n",
        "td.bkgnd_red {\n",
        "  background-color: #f4cccc;\n",
        "}\n",
        "</style>\n",
        "\"\"\"\n",
        "display(HTML(style + html))"
      ],
      "execution_count": 0,
      "outputs": [
        {
          "output_type": "display_data",
          "data": {
            "text/html": [
              "\n",
              "<style> \n",
              "html {\n",
              "  font-family: sans-serif;\n",
              "}\n",
              "table {\n",
              "  border-collapse: collapse;\n",
              "  border: 1px solid black;\n",
              "}\n",
              "td, th {\n",
              "  border: 1px solid rgb(190,190,190);\n",
              "  padding: 10px 20px;\n",
              "  text-align: left;\n",
              "}\n",
              "th {\n",
              "  background-color: rgb(196, 219, 239);\n",
              "}\n",
              "td.bkgnd_green {\n",
              "  background-color: #d9ead3;\n",
              "}\n",
              "td.bkgnd_red {\n",
              "  background-color: #f4cccc;\n",
              "}\n",
              "</style>\n",
              "<table><thead><th>EPL 2018</th><th>Actual Home Win</th><th>Actual Draw</th><th>Actual Away Win</th><th>Upsets</th><th>Favored Won Pct</th><th>Upset Pct</th></thead><tbody><tr><td>Predicted Home Win</td><td class=\"bkgnd_green\">146</td><td class=\"bkgnd_red\">53</td><td class=\"bkgnd_red\">50</td><td>103</td><td>58.63%</td><td>41.37%</td></tr><tr><td>Predicted Away Win</td><td class=\"bkgnd_red\">35</td><td class=\"bkgnd_red\">18</td><td class=\"bkgnd_green\">78</td><td>53</td><td>59.54%</td><td>40.46%</td></tr><thead><th>EPL 2017</th><th>Actual Home Win</th><th>Actual Draw</th><th>Actual Away Win</th><th>Upsets</th><th>Favored Won Pct</th><th>Upset Pct</th></thead><tbody><tr><td>Predicted Home Win</td><td class=\"bkgnd_green\">150</td><td class=\"bkgnd_red\">70</td><td class=\"bkgnd_red\">48</td><td>118</td><td>55.97%</td><td>44.03%</td></tr><tr><td>Predicted Away Win</td><td class=\"bkgnd_red\">23</td><td class=\"bkgnd_red\">29</td><td class=\"bkgnd_green\">60</td><td>52</td><td>53.57%</td><td>46.43%</td></tr><thead><th>EPL 2016</th><th>Actual Home Win</th><th>Actual Draw</th><th>Actual Away Win</th><th>Upsets</th><th>Favored Won Pct</th><th>Upset Pct</th></thead><tbody><tr><td>Predicted Home Win</td><td class=\"bkgnd_green\">157</td><td class=\"bkgnd_red\">62</td><td class=\"bkgnd_red\">35</td><td>97</td><td>61.81%</td><td>38.19%</td></tr><tr><td>Predicted Away Win</td><td class=\"bkgnd_red\">30</td><td class=\"bkgnd_red\">22</td><td class=\"bkgnd_green\">74</td><td>52</td><td>58.73%</td><td>41.27%</td></tr><thead><th>EPL 2015</th><th>Actual Home Win</th><th>Actual Draw</th><th>Actual Away Win</th><th>Upsets</th><th>Favored Won Pct</th><th>Upset Pct</th></thead><tbody><tr><td>Predicted Home Win</td><td class=\"bkgnd_green\">127</td><td class=\"bkgnd_red\">76</td><td class=\"bkgnd_red\">64</td><td>140</td><td>47.57%</td><td>52.43%</td></tr><tr><td>Predicted Away Win</td><td class=\"bkgnd_red\">30</td><td class=\"bkgnd_red\">31</td><td class=\"bkgnd_green\">52</td><td>61</td><td>46.02%</td><td>53.98%</td></tr><thead><th>EPL 2014</th><th>Actual Home Win</th><th>Actual Draw</th><th>Actual Away Win</th><th>Upsets</th><th>Favored Won Pct</th><th>Upset Pct</th></thead><tbody><tr><td>Predicted Home Win</td><td class=\"bkgnd_green\">144</td><td class=\"bkgnd_red\">64</td><td class=\"bkgnd_red\">56</td><td>120</td><td>54.55%</td><td>45.45%</td></tr><tr><td>Predicted Away Win</td><td class=\"bkgnd_red\">28</td><td class=\"bkgnd_red\">29</td><td class=\"bkgnd_green\">59</td><td>57</td><td>50.86%</td><td>49.14%</td></tr><thead><th>EPL 2013</th><th>Actual Home Win</th><th>Actual Draw</th><th>Actual Away Win</th><th>Upsets</th><th>Favored Won Pct</th><th>Upset Pct</th></thead><tbody><tr><td>Predicted Home Win</td><td class=\"bkgnd_green\">158</td><td class=\"bkgnd_red\">52</td><td class=\"bkgnd_red\">52</td><td>104</td><td>60.31%</td><td>39.69%</td></tr><tr><td>Predicted Away Win</td><td class=\"bkgnd_red\">21</td><td class=\"bkgnd_red\">26</td><td class=\"bkgnd_green\">71</td><td>47</td><td>60.17%</td><td>39.83%</td></tr><thead><th>EPL 2012</th><th>Actual Home Win</th><th>Actual Draw</th><th>Actual Away Win</th><th>Upsets</th><th>Favored Won Pct</th><th>Upset Pct</th></thead><tbody><tr><td>Predicted Home Win</td><td class=\"bkgnd_green\">146</td><td class=\"bkgnd_red\">78</td><td class=\"bkgnd_red\">50</td><td>128</td><td>53.28%</td><td>46.72%</td></tr><tr><td>Predicted Away Win</td><td class=\"bkgnd_red\">20</td><td class=\"bkgnd_red\">30</td><td class=\"bkgnd_green\">56</td><td>50</td><td>52.83%</td><td>47.17%</td></tr><thead><th>EPL 2011</th><th>Actual Home Win</th><th>Actual Draw</th><th>Actual Away Win</th><th>Upsets</th><th>Favored Won Pct</th><th>Upset Pct</th></thead><tbody><tr><td>Predicted Home Win</td><td class=\"bkgnd_green\">147</td><td class=\"bkgnd_red\">67</td><td class=\"bkgnd_red\">65</td><td>132</td><td>52.69%</td><td>47.31%</td></tr><tr><td>Predicted Away Win</td><td class=\"bkgnd_red\">24</td><td class=\"bkgnd_red\">26</td><td class=\"bkgnd_green\">51</td><td>50</td><td>50.50%</td><td>49.50%</td></tr><thead><th>EPL 2010</th><th>Actual Home Win</th><th>Actual Draw</th><th>Actual Away Win</th><th>Upsets</th><th>Favored Won Pct</th><th>Upset Pct</th></thead><tbody><tr><td>Predicted Home Win</td><td class=\"bkgnd_green\">154</td><td class=\"bkgnd_red\">75</td><td class=\"bkgnd_red\">50</td><td>125</td><td>55.20%</td><td>44.80%</td></tr><tr><td>Predicted Away Win</td><td class=\"bkgnd_red\">25</td><td class=\"bkgnd_red\">36</td><td class=\"bkgnd_green\">40</td><td>61</td><td>39.60%</td><td>60.40%</td></tr><thead><th>EPL 2009</th><th>Actual Home Win</th><th>Actual Draw</th><th>Actual Away Win</th><th>Upsets</th><th>Favored Won Pct</th><th>Upset Pct</th></thead><tbody><tr><td>Predicted Home Win</td><td class=\"bkgnd_green\">161</td><td class=\"bkgnd_red\">61</td><td class=\"bkgnd_red\">41</td><td>102</td><td>61.22%</td><td>38.78%</td></tr><tr><td>Predicted Away Win</td><td class=\"bkgnd_red\">32</td><td class=\"bkgnd_red\">35</td><td class=\"bkgnd_green\">50</td><td>67</td><td>42.74%</td><td>57.26%</td></tr><thead><th>La Liga 2018</th><th>Actual Home Win</th><th>Actual Draw</th><th>Actual Away Win</th><th>Upsets</th><th>Favored Won Pct</th><th>Upset Pct</th></thead><tbody><tr><td>Predicted Home Win</td><td class=\"bkgnd_green\">141</td><td class=\"bkgnd_red\">74</td><td class=\"bkgnd_red\">60</td><td>134</td><td>51.27%</td><td>48.73%</td></tr><tr><td>Predicted Away Win</td><td class=\"bkgnd_red\">27</td><td class=\"bkgnd_red\">36</td><td class=\"bkgnd_green\">42</td><td>63</td><td>40.00%</td><td>60.00%</td></tr><thead><th>La Liga 2017</th><th>Actual Home Win</th><th>Actual Draw</th><th>Actual Away Win</th><th>Upsets</th><th>Favored Won Pct</th><th>Upset Pct</th></thead><tbody><tr><td>Predicted Home Win</td><td class=\"bkgnd_green\">152</td><td class=\"bkgnd_red\">65</td><td class=\"bkgnd_red\">59</td><td>124</td><td>55.07%</td><td>44.93%</td></tr><tr><td>Predicted Away Win</td><td class=\"bkgnd_red\">27</td><td class=\"bkgnd_red\">21</td><td class=\"bkgnd_green\">56</td><td>48</td><td>53.85%</td><td>46.15%</td></tr><thead><th>La Liga 2016</th><th>Actual Home Win</th><th>Actual Draw</th><th>Actual Away Win</th><th>Upsets</th><th>Favored Won Pct</th><th>Upset Pct</th></thead><tbody><tr><td>Predicted Home Win</td><td class=\"bkgnd_green\">161</td><td class=\"bkgnd_red\">66</td><td class=\"bkgnd_red\">49</td><td>115</td><td>58.33%</td><td>41.67%</td></tr><tr><td>Predicted Away Win</td><td class=\"bkgnd_red\">20</td><td class=\"bkgnd_red\">23</td><td class=\"bkgnd_green\">61</td><td>43</td><td>58.65%</td><td>41.35%</td></tr><thead><th>La Liga 2015</th><th>Actual Home Win</th><th>Actual Draw</th><th>Actual Away Win</th><th>Upsets</th><th>Favored Won Pct</th><th>Upset Pct</th></thead><tbody><tr><td>Predicted Home Win</td><td class=\"bkgnd_green\">160</td><td class=\"bkgnd_red\">65</td><td class=\"bkgnd_red\">57</td><td>122</td><td>56.74%</td><td>43.26%</td></tr><tr><td>Predicted Away Win</td><td class=\"bkgnd_red\">23</td><td class=\"bkgnd_red\">27</td><td class=\"bkgnd_green\">48</td><td>50</td><td>48.98%</td><td>51.02%</td></tr><thead><th>La Liga 2014</th><th>Actual Home Win</th><th>Actual Draw</th><th>Actual Away Win</th><th>Upsets</th><th>Favored Won Pct</th><th>Upset Pct</th></thead><tbody><tr><td>Predicted Home Win</td><td class=\"bkgnd_green\">148</td><td class=\"bkgnd_red\">59</td><td class=\"bkgnd_red\">50</td><td>109</td><td>57.59%</td><td>42.41%</td></tr><tr><td>Predicted Away Win</td><td class=\"bkgnd_red\">23</td><td class=\"bkgnd_red\">32</td><td class=\"bkgnd_green\">68</td><td>55</td><td>55.28%</td><td>44.72%</td></tr><thead><th>La Liga 2013</th><th>Actual Home Win</th><th>Actual Draw</th><th>Actual Away Win</th><th>Upsets</th><th>Favored Won Pct</th><th>Upset Pct</th></thead><tbody><tr><td>Predicted Home Win</td><td class=\"bkgnd_green\">154</td><td class=\"bkgnd_red\">60</td><td class=\"bkgnd_red\">65</td><td>125</td><td>55.20%</td><td>44.80%</td></tr><tr><td>Predicted Away Win</td><td class=\"bkgnd_red\">25</td><td class=\"bkgnd_red\">26</td><td class=\"bkgnd_green\">50</td><td>51</td><td>49.50%</td><td>50.50%</td></tr><thead><th>La Liga 2012</th><th>Actual Home Win</th><th>Actual Draw</th><th>Actual Away Win</th><th>Upsets</th><th>Favored Won Pct</th><th>Upset Pct</th></thead><tbody><tr><td>Predicted Home Win</td><td class=\"bkgnd_green\">170</td><td class=\"bkgnd_red\">59</td><td class=\"bkgnd_red\">70</td><td>129</td><td>56.86%</td><td>43.14%</td></tr><tr><td>Predicted Away Win</td><td class=\"bkgnd_red\">19</td><td class=\"bkgnd_red\">25</td><td class=\"bkgnd_green\">37</td><td>44</td><td>45.68%</td><td>54.32%</td></tr><thead><th>La Liga 2011</th><th>Actual Home Win</th><th>Actual Draw</th><th>Actual Away Win</th><th>Upsets</th><th>Favored Won Pct</th><th>Upset Pct</th></thead><tbody><tr><td>Predicted Home Win</td><td class=\"bkgnd_green\">161</td><td class=\"bkgnd_red\">72</td><td class=\"bkgnd_red\">56</td><td>128</td><td>55.71%</td><td>44.29%</td></tr><tr><td>Predicted Away Win</td><td class=\"bkgnd_red\">27</td><td class=\"bkgnd_red\">22</td><td class=\"bkgnd_green\">42</td><td>49</td><td>46.15%</td><td>53.85%</td></tr><thead><th>La Liga 2010</th><th>Actual Home Win</th><th>Actual Draw</th><th>Actual Away Win</th><th>Upsets</th><th>Favored Won Pct</th><th>Upset Pct</th></thead><tbody><tr><td>Predicted Home Win</td><td class=\"bkgnd_green\">180</td><td class=\"bkgnd_red\">61</td><td class=\"bkgnd_red\">53</td><td>114</td><td>61.22%</td><td>38.78%</td></tr><tr><td>Predicted Away Win</td><td class=\"bkgnd_red\">17</td><td class=\"bkgnd_red\">18</td><td class=\"bkgnd_green\">51</td><td>35</td><td>59.30%</td><td>40.70%</td></tr><thead><th>La Liga 2009</th><th>Actual Home Win</th><th>Actual Draw</th><th>Actual Away Win</th><th>Upsets</th><th>Favored Won Pct</th><th>Upset Pct</th></thead><tbody><tr><td>Predicted Home Win</td><td class=\"bkgnd_green\">173</td><td class=\"bkgnd_red\">77</td><td class=\"bkgnd_red\">43</td><td>120</td><td>59.04%</td><td>40.96%</td></tr><tr><td>Predicted Away Win</td><td class=\"bkgnd_red\">21</td><td class=\"bkgnd_red\">18</td><td class=\"bkgnd_green\">48</td><td>39</td><td>55.17%</td><td>44.83%</td></tr><thead><th>Serie A 2018</th><th>Actual Home Win</th><th>Actual Draw</th><th>Actual Away Win</th><th>Upsets</th><th>Favored Won Pct</th><th>Upset Pct</th></thead><tbody><tr><td>Predicted Home Win</td><td class=\"bkgnd_green\">139</td><td class=\"bkgnd_red\">71</td><td class=\"bkgnd_red\">37</td><td>108</td><td>56.28%</td><td>43.72%</td></tr><tr><td>Predicted Away Win</td><td class=\"bkgnd_red\">27</td><td class=\"bkgnd_red\">37</td><td class=\"bkgnd_green\">69</td><td>64</td><td>51.88%</td><td>48.12%</td></tr><thead><th>Serie A 2017</th><th>Actual Home Win</th><th>Actual Draw</th><th>Actual Away Win</th><th>Upsets</th><th>Favored Won Pct</th><th>Upset Pct</th></thead><tbody><tr><td>Predicted Home Win</td><td class=\"bkgnd_green\">139</td><td class=\"bkgnd_red\">51</td><td class=\"bkgnd_red\">46</td><td>97</td><td>58.90%</td><td>41.10%</td></tr><tr><td>Predicted Away Win</td><td class=\"bkgnd_red\">25</td><td class=\"bkgnd_red\">32</td><td class=\"bkgnd_green\">87</td><td>57</td><td>60.42%</td><td>39.58%</td></tr><thead><th>Serie A 2016</th><th>Actual Home Win</th><th>Actual Draw</th><th>Actual Away Win</th><th>Upsets</th><th>Favored Won Pct</th><th>Upset Pct</th></thead><tbody><tr><td>Predicted Home Win</td><td class=\"bkgnd_green\">156</td><td class=\"bkgnd_red\">53</td><td class=\"bkgnd_red\">38</td><td>91</td><td>63.16%</td><td>36.84%</td></tr><tr><td>Predicted Away Win</td><td class=\"bkgnd_red\">28</td><td class=\"bkgnd_red\">27</td><td class=\"bkgnd_green\">78</td><td>55</td><td>58.65%</td><td>41.35%</td></tr><thead><th>Serie A 2015</th><th>Actual Home Win</th><th>Actual Draw</th><th>Actual Away Win</th><th>Upsets</th><th>Favored Won Pct</th><th>Upset Pct</th></thead><tbody><tr><td>Predicted Home Win</td><td class=\"bkgnd_green\">146</td><td class=\"bkgnd_red\">64</td><td class=\"bkgnd_red\">52</td><td>116</td><td>55.73%</td><td>44.27%</td></tr><tr><td>Predicted Away Win</td><td class=\"bkgnd_red\">29</td><td class=\"bkgnd_red\">31</td><td class=\"bkgnd_green\">58</td><td>60</td><td>49.15%</td><td>50.85%</td></tr><thead><th>Serie A 2014</th><th>Actual Home Win</th><th>Actual Draw</th><th>Actual Away Win</th><th>Upsets</th><th>Favored Won Pct</th><th>Upset Pct</th></thead><tbody><tr><td>Predicted Home Win</td><td class=\"bkgnd_green\">126</td><td class=\"bkgnd_red\">85</td><td class=\"bkgnd_red\">56</td><td>141</td><td>47.19%</td><td>52.81%</td></tr><tr><td>Predicted Away Win</td><td class=\"bkgnd_red\">26</td><td class=\"bkgnd_red\">35</td><td class=\"bkgnd_green\">52</td><td>61</td><td>46.02%</td><td>53.98%</td></tr><thead><th>Serie A 2013</th><th>Actual Home Win</th><th>Actual Draw</th><th>Actual Away Win</th><th>Upsets</th><th>Favored Won Pct</th><th>Upset Pct</th></thead><tbody><tr><td>Predicted Home Win</td><td class=\"bkgnd_green\">160</td><td class=\"bkgnd_red\">62</td><td class=\"bkgnd_red\">50</td><td>112</td><td>58.82%</td><td>41.18%</td></tr><tr><td>Predicted Away Win</td><td class=\"bkgnd_red\">21</td><td class=\"bkgnd_red\">28</td><td class=\"bkgnd_green\">59</td><td>49</td><td>54.63%</td><td>45.37%</td></tr><thead><th>Serie A 2012</th><th>Actual Home Win</th><th>Actual Draw</th><th>Actual Away Win</th><th>Upsets</th><th>Favored Won Pct</th><th>Upset Pct</th></thead><tbody><tr><td>Predicted Home Win</td><td class=\"bkgnd_green\">149</td><td class=\"bkgnd_red\">73</td><td class=\"bkgnd_red\">48</td><td>121</td><td>55.19%</td><td>44.81%</td></tr><tr><td>Predicted Draw</td><td class=\"bkgnd_red\">1</td><td class=\"bkgnd_green\">4</td><td class=\"bkgnd_red\">1</td><td>2</td><td>66.67%</td><td>33.33%</td></tr><tr><td>Predicted Away Win</td><td class=\"bkgnd_red\">27</td><td class=\"bkgnd_red\">19</td><td class=\"bkgnd_green\">58</td><td>46</td><td>55.77%</td><td>44.23%</td></tr><thead><th>Serie A 2011</th><th>Actual Home Win</th><th>Actual Draw</th><th>Actual Away Win</th><th>Upsets</th><th>Favored Won Pct</th><th>Upset Pct</th></thead><tbody><tr><td>Predicted Home Win</td><td class=\"bkgnd_green\">150</td><td class=\"bkgnd_red\">86</td><td class=\"bkgnd_red\">55</td><td>141</td><td>51.55%</td><td>48.45%</td></tr><tr><td>Predicted Draw</td><td class=\"bkgnd_red\">2</td><td class=\"bkgnd_green\">0</td><td class=\"bkgnd_red\">1</td><td>3</td><td>0.00%</td><td>100.00%</td></tr><tr><td>Predicted Away Win</td><td class=\"bkgnd_red\">21</td><td class=\"bkgnd_red\">25</td><td class=\"bkgnd_green\">40</td><td>46</td><td>46.51%</td><td>53.49%</td></tr><thead><th>Serie A 2010</th><th>Actual Home Win</th><th>Actual Draw</th><th>Actual Away Win</th><th>Upsets</th><th>Favored Won Pct</th><th>Upset Pct</th></thead><tbody><tr><td>Predicted Home Win</td><td class=\"bkgnd_green\">152</td><td class=\"bkgnd_red\">71</td><td class=\"bkgnd_red\">57</td><td>128</td><td>54.29%</td><td>45.71%</td></tr><tr><td>Predicted Draw</td><td class=\"bkgnd_red\">2</td><td class=\"bkgnd_green\">3</td><td class=\"bkgnd_red\">3</td><td>5</td><td>37.50%</td><td>62.50%</td></tr><tr><td>Predicted Away Win</td><td class=\"bkgnd_red\">25</td><td class=\"bkgnd_red\">23</td><td class=\"bkgnd_green\">44</td><td>48</td><td>47.83%</td><td>52.17%</td></tr><thead><th>Serie A 2009</th><th>Actual Home Win</th><th>Actual Draw</th><th>Actual Away Win</th><th>Upsets</th><th>Favored Won Pct</th><th>Upset Pct</th></thead><tbody><tr><td>Predicted Home Win</td><td class=\"bkgnd_green\">166</td><td class=\"bkgnd_red\">75</td><td class=\"bkgnd_red\">49</td><td>124</td><td>57.24%</td><td>42.76%</td></tr><tr><td>Predicted Draw</td><td class=\"bkgnd_red\">2</td><td class=\"bkgnd_green\">3</td><td class=\"bkgnd_red\">1</td><td>3</td><td>50.00%</td><td>50.00%</td></tr><tr><td>Predicted Away Win</td><td class=\"bkgnd_red\">18</td><td class=\"bkgnd_red\">24</td><td class=\"bkgnd_green\">42</td><td>42</td><td>50.00%</td><td>50.00%</td></tr><thead><th>Bundesliga 2018</th><th>Actual Home Win</th><th>Actual Draw</th><th>Actual Away Win</th><th>Upsets</th><th>Favored Won Pct</th><th>Upset Pct</th></thead><tbody><tr><td>Predicted Home Win</td><td class=\"bkgnd_green\">109</td><td class=\"bkgnd_red\">48</td><td class=\"bkgnd_red\">41</td><td>89</td><td>55.05%</td><td>44.95%</td></tr><tr><td>Predicted Away Win</td><td class=\"bkgnd_red\">29</td><td class=\"bkgnd_red\">25</td><td class=\"bkgnd_green\">54</td><td>54</td><td>50.00%</td><td>50.00%</td></tr><thead><th>Bundesliga 2017</th><th>Actual Home Win</th><th>Actual Draw</th><th>Actual Away Win</th><th>Upsets</th><th>Favored Won Pct</th><th>Upset Pct</th></thead><tbody><tr><td>Predicted Home Win</td><td class=\"bkgnd_green\">114</td><td class=\"bkgnd_red\">66</td><td class=\"bkgnd_red\">45</td><td>111</td><td>50.67%</td><td>49.33%</td></tr><tr><td>Predicted Away Win</td><td class=\"bkgnd_red\">25</td><td class=\"bkgnd_red\">17</td><td class=\"bkgnd_green\">39</td><td>42</td><td>48.15%</td><td>51.85%</td></tr><thead><th>Bundesliga 2016</th><th>Actual Home Win</th><th>Actual Draw</th><th>Actual Away Win</th><th>Upsets</th><th>Favored Won Pct</th><th>Upset Pct</th></thead><tbody><tr><td>Predicted Home Win</td><td class=\"bkgnd_green\">121</td><td class=\"bkgnd_red\">51</td><td class=\"bkgnd_red\">46</td><td>97</td><td>55.50%</td><td>44.50%</td></tr><tr><td>Predicted Away Win</td><td class=\"bkgnd_red\">29</td><td class=\"bkgnd_red\">23</td><td class=\"bkgnd_green\">36</td><td>52</td><td>40.91%</td><td>59.09%</td></tr><thead><th>Bundesliga 2015</th><th>Actual Home Win</th><th>Actual Draw</th><th>Actual Away Win</th><th>Upsets</th><th>Favored Won Pct</th><th>Upset Pct</th></thead><tbody><tr><td>Predicted Home Win</td><td class=\"bkgnd_green\">115</td><td class=\"bkgnd_red\">49</td><td class=\"bkgnd_red\">52</td><td>101</td><td>53.24%</td><td>46.76%</td></tr><tr><td>Predicted Away Win</td><td class=\"bkgnd_red\">20</td><td class=\"bkgnd_red\">22</td><td class=\"bkgnd_green\">48</td><td>42</td><td>53.33%</td><td>46.67%</td></tr><thead><th>Bundesliga 2014</th><th>Actual Home Win</th><th>Actual Draw</th><th>Actual Away Win</th><th>Upsets</th><th>Favored Won Pct</th><th>Upset Pct</th></thead><tbody><tr><td>Predicted Home Win</td><td class=\"bkgnd_green\">120</td><td class=\"bkgnd_red\">58</td><td class=\"bkgnd_red\">41</td><td>99</td><td>54.79%</td><td>45.21%</td></tr><tr><td>Predicted Away Win</td><td class=\"bkgnd_red\">25</td><td class=\"bkgnd_red\">24</td><td class=\"bkgnd_green\">38</td><td>49</td><td>43.68%</td><td>56.32%</td></tr><thead><th>Bundesliga 2013</th><th>Actual Home Win</th><th>Actual Draw</th><th>Actual Away Win</th><th>Upsets</th><th>Favored Won Pct</th><th>Upset Pct</th></thead><tbody><tr><td>Predicted Home Win</td><td class=\"bkgnd_green\">122</td><td class=\"bkgnd_red\">46</td><td class=\"bkgnd_red\">51</td><td>97</td><td>55.71%</td><td>44.29%</td></tr><tr><td>Predicted Away Win</td><td class=\"bkgnd_red\">23</td><td class=\"bkgnd_red\">18</td><td class=\"bkgnd_green\">46</td><td>41</td><td>52.87%</td><td>47.13%</td></tr><thead><th>Bundesliga 2012</th><th>Actual Home Win</th><th>Actual Draw</th><th>Actual Away Win</th><th>Upsets</th><th>Favored Won Pct</th><th>Upset Pct</th></thead><tbody><tr><td>Predicted Home Win</td><td class=\"bkgnd_green\">113</td><td class=\"bkgnd_red\">60</td><td class=\"bkgnd_red\">60</td><td>120</td><td>48.50%</td><td>51.50%</td></tr><tr><td>Predicted Away Win</td><td class=\"bkgnd_red\">17</td><td class=\"bkgnd_red\">18</td><td class=\"bkgnd_green\">38</td><td>35</td><td>52.05%</td><td>47.95%</td></tr><thead><th>Bundesliga 2011</th><th>Actual Home Win</th><th>Actual Draw</th><th>Actual Away Win</th><th>Upsets</th><th>Favored Won Pct</th><th>Upset Pct</th></thead><tbody><tr><td>Predicted Home Win</td><td class=\"bkgnd_green\">120</td><td class=\"bkgnd_red\">60</td><td class=\"bkgnd_red\">51</td><td>111</td><td>51.95%</td><td>48.05%</td></tr><tr><td>Predicted Away Win</td><td class=\"bkgnd_red\">19</td><td class=\"bkgnd_red\">19</td><td class=\"bkgnd_green\">37</td><td>38</td><td>49.33%</td><td>50.67%</td></tr><thead><th>Bundesliga 2010</th><th>Actual Home Win</th><th>Actual Draw</th><th>Actual Away Win</th><th>Upsets</th><th>Favored Won Pct</th><th>Upset Pct</th></thead><tbody><tr><td>Predicted Home Win</td><td class=\"bkgnd_green\">117</td><td class=\"bkgnd_red\">42</td><td class=\"bkgnd_red\">71</td><td>113</td><td>50.87%</td><td>49.13%</td></tr><tr><td>Predicted Away Win</td><td class=\"bkgnd_red\">24</td><td class=\"bkgnd_red\">21</td><td class=\"bkgnd_green\">31</td><td>45</td><td>40.79%</td><td>59.21%</td></tr><thead><th>Bundesliga 2009</th><th>Actual Home Win</th><th>Actual Draw</th><th>Actual Away Win</th><th>Upsets</th><th>Favored Won Pct</th><th>Upset Pct</th></thead><tbody><tr><td>Predicted Home Win</td><td class=\"bkgnd_green\">108</td><td class=\"bkgnd_red\">56</td><td class=\"bkgnd_red\">52</td><td>108</td><td>50.00%</td><td>50.00%</td></tr><tr><td>Predicted Away Win</td><td class=\"bkgnd_red\">17</td><td class=\"bkgnd_red\">30</td><td class=\"bkgnd_green\">43</td><td>47</td><td>47.78%</td><td>52.22%</td></tr><thead><th>Ligue 1 2018</th><th>Actual Home Win</th><th>Actual Draw</th><th>Actual Away Win</th><th>Upsets</th><th>Favored Won Pct</th><th>Upset Pct</th></thead><tbody><tr><td>Predicted Home Win</td><td class=\"bkgnd_green\">139</td><td class=\"bkgnd_red\">83</td><td class=\"bkgnd_red\">60</td><td>143</td><td>49.29%</td><td>50.71%</td></tr><tr><td>Predicted Away Win</td><td class=\"bkgnd_red\">25</td><td class=\"bkgnd_red\">27</td><td class=\"bkgnd_green\">46</td><td>52</td><td>46.94%</td><td>53.06%</td></tr><thead><th>Ligue 1 2017</th><th>Actual Home Win</th><th>Actual Draw</th><th>Actual Away Win</th><th>Upsets</th><th>Favored Won Pct</th><th>Upset Pct</th></thead><tbody><tr><td>Predicted Home Win</td><td class=\"bkgnd_green\">152</td><td class=\"bkgnd_red\">70</td><td class=\"bkgnd_red\">55</td><td>125</td><td>54.87%</td><td>45.13%</td></tr><tr><td>Predicted Away Win</td><td class=\"bkgnd_red\">21</td><td class=\"bkgnd_red\">26</td><td class=\"bkgnd_green\">56</td><td>47</td><td>54.37%</td><td>45.63%</td></tr><thead><th>Ligue 1 2016</th><th>Actual Home Win</th><th>Actual Draw</th><th>Actual Away Win</th><th>Upsets</th><th>Favored Won Pct</th><th>Upset Pct</th></thead><tbody><tr><td>Predicted Home Win</td><td class=\"bkgnd_green\">164</td><td class=\"bkgnd_red\">75</td><td class=\"bkgnd_red\">58</td><td>133</td><td>55.22%</td><td>44.78%</td></tr><tr><td>Predicted Away Win</td><td class=\"bkgnd_red\">22</td><td class=\"bkgnd_red\">19</td><td class=\"bkgnd_green\">42</td><td>41</td><td>50.60%</td><td>49.40%</td></tr><thead><th>Ligue 1 2015</th><th>Actual Home Win</th><th>Actual Draw</th><th>Actual Away Win</th><th>Upsets</th><th>Favored Won Pct</th><th>Upset Pct</th></thead><tbody><tr><td>Predicted Home Win</td><td class=\"bkgnd_green\">139</td><td class=\"bkgnd_red\">86</td><td class=\"bkgnd_red\">64</td><td>150</td><td>48.10%</td><td>51.90%</td></tr><tr><td>Predicted Away Win</td><td class=\"bkgnd_red\">21</td><td class=\"bkgnd_red\">22</td><td class=\"bkgnd_green\">48</td><td>43</td><td>52.75%</td><td>47.25%</td></tr><thead><th>Ligue 1 2014</th><th>Actual Home Win</th><th>Actual Draw</th><th>Actual Away Win</th><th>Upsets</th><th>Favored Won Pct</th><th>Upset Pct</th></thead><tbody><tr><td>Predicted Home Win</td><td class=\"bkgnd_green\">159</td><td class=\"bkgnd_red\">70</td><td class=\"bkgnd_red\">61</td><td>131</td><td>54.83%</td><td>45.17%</td></tr><tr><td>Predicted Away Win</td><td class=\"bkgnd_red\">22</td><td class=\"bkgnd_red\">18</td><td class=\"bkgnd_green\">50</td><td>40</td><td>55.56%</td><td>44.44%</td></tr><thead><th>Ligue 1 2013</th><th>Actual Home Win</th><th>Actual Draw</th><th>Actual Away Win</th><th>Upsets</th><th>Favored Won Pct</th><th>Upset Pct</th></thead><tbody><tr><td>Predicted Home Win</td><td class=\"bkgnd_green\">150</td><td class=\"bkgnd_red\">82</td><td class=\"bkgnd_red\">55</td><td>137</td><td>52.26%</td><td>47.74%</td></tr><tr><td>Predicted Away Win</td><td class=\"bkgnd_red\">18</td><td class=\"bkgnd_red\">26</td><td class=\"bkgnd_green\">49</td><td>44</td><td>52.69%</td><td>47.31%</td></tr><thead><th>Ligue 1 2012</th><th>Actual Home Win</th><th>Actual Draw</th><th>Actual Away Win</th><th>Upsets</th><th>Favored Won Pct</th><th>Upset Pct</th></thead><tbody><tr><td>Predicted Home Win</td><td class=\"bkgnd_green\">149</td><td class=\"bkgnd_red\">76</td><td class=\"bkgnd_red\">55</td><td>131</td><td>53.21%</td><td>46.79%</td></tr><tr><td>Predicted Draw</td><td class=\"bkgnd_red\">0</td><td class=\"bkgnd_green\">1</td><td class=\"bkgnd_red\">0</td><td>0</td><td>100.00%</td><td>0.00%</td></tr><tr><td>Predicted Away Win</td><td class=\"bkgnd_red\">21</td><td class=\"bkgnd_red\">31</td><td class=\"bkgnd_green\">47</td><td>52</td><td>47.47%</td><td>52.53%</td></tr><thead><th>Ligue 1 2011</th><th>Actual Home Win</th><th>Actual Draw</th><th>Actual Away Win</th><th>Upsets</th><th>Favored Won Pct</th><th>Upset Pct</th></thead><tbody><tr><td>Predicted Home Win</td><td class=\"bkgnd_green\">158</td><td class=\"bkgnd_red\">86</td><td class=\"bkgnd_red\">56</td><td>142</td><td>52.67%</td><td>47.33%</td></tr><tr><td>Predicted Away Win</td><td class=\"bkgnd_red\">21</td><td class=\"bkgnd_red\">22</td><td class=\"bkgnd_green\">37</td><td>43</td><td>46.25%</td><td>53.75%</td></tr><thead><th>Ligue 1 2010</th><th>Actual Home Win</th><th>Actual Draw</th><th>Actual Away Win</th><th>Upsets</th><th>Favored Won Pct</th><th>Upset Pct</th></thead><tbody><tr><td>Predicted Home Win</td><td class=\"bkgnd_green\">139</td><td class=\"bkgnd_red\">106</td><td class=\"bkgnd_red\">60</td><td>166</td><td>45.57%</td><td>54.43%</td></tr><tr><td>Predicted Away Win</td><td class=\"bkgnd_red\">18</td><td class=\"bkgnd_red\">24</td><td class=\"bkgnd_green\">33</td><td>42</td><td>44.00%</td><td>56.00%</td></tr><thead><th>Ligue 1 2009</th><th>Actual Home Win</th><th>Actual Draw</th><th>Actual Away Win</th><th>Upsets</th><th>Favored Won Pct</th><th>Upset Pct</th></thead><tbody><tr><td>Predicted Home Win</td><td class=\"bkgnd_green\">153</td><td class=\"bkgnd_red\">74</td><td class=\"bkgnd_red\">64</td><td>138</td><td>52.58%</td><td>47.42%</td></tr><tr><td>Predicted Away Win</td><td class=\"bkgnd_red\">26</td><td class=\"bkgnd_red\">23</td><td class=\"bkgnd_green\">40</td><td>49</td><td>44.94%</td><td>55.06%</td></tr></table>"
            ],
            "text/plain": [
              "<IPython.core.display.HTML object>"
            ]
          },
          "metadata": {
            "tags": []
          }
        }
      ]
    },
    {
      "cell_type": "code",
      "metadata": {
        "id": "oB3f2yLLE560",
        "colab_type": "code",
        "colab": {}
      },
      "source": [
        "# Create a data frame for the chart\n",
        "league = []\n",
        "season = []\n",
        "pct_upsets = []\n",
        "tooltips = []\n",
        "for leag in ['EPL', 'La Liga', 'Serie A', 'Bundesliga', 'Ligue 1']:\n",
        "  for year in range(start_season, end_season-1, -1):\n",
        "    league.append(leag)\n",
        "    season.append(str(year))\n",
        "    phw = lookup[leag][year]['Predicted Home Win']\n",
        "    pdw = lookup[leag][year]['Predicted Draw']\n",
        "    paw = lookup[leag][year]['Predicted Away Win']\n",
        "    upsets = phw['D'] + phw['A'] + pdw['H'] + pdw['A'] + paw['H'] + paw['D']\n",
        "    total_matches = phw['H'] + phw['D'] + phw['A'] + paw['H'] + paw['D'] + paw['A']\n",
        "    pct_upsets.append(upsets/total_matches)\n",
        "    tooltips.append('{:.1f}%'.format(upsets/total_matches*100))\n",
        "\n",
        "chart_df = pd.DataFrame({\n",
        "    'League': league,\n",
        "    'Season': season,\n",
        "    'Pct Upsets': pct_upsets,\n",
        "    'thresh': [0.5] * len(league),\n",
        "    'tooltips': tooltips,\n",
        "})\n"
      ],
      "execution_count": 0,
      "outputs": []
    },
    {
      "cell_type": "code",
      "metadata": {
        "id": "8docv4s71Brr",
        "colab_type": "code",
        "outputId": "3610e1c6-fd56-4b8a-de1a-6b76c340e052",
        "colab": {
          "base_uri": "https://localhost:8080/",
          "height": 579
        }
      },
      "source": [
        "import altair as alt\n",
        "\n",
        "mouse_hover = alt.selection(type='single',\n",
        "                            on='mouseover',\n",
        "                            nearest=True,\n",
        "                            fields=['League'])\n",
        "\n",
        "base = (\n",
        "    alt.Chart(chart_df)\n",
        "        .properties(width=800,\n",
        "                    height=500,\n",
        "                    title='Hover over chart lines to highlight')\n",
        "        .encode(x=alt.X(shorthand='Season:O',\n",
        "                        title=''),\n",
        "                y=alt.Y(shorthand='Pct Upsets:Q',\n",
        "                        scale=alt.Scale(domain=[0.35, 0.55]),\n",
        "                        title='% Upsets'),\n",
        "                color='League')    \n",
        ")\n",
        "\n",
        "points = (\n",
        "    base\n",
        "        .mark_circle()\n",
        "        .encode(opacity=alt.value(0))\n",
        "        .add_selection(mouse_hover)\n",
        ")\n",
        "\n",
        "lines = (\n",
        "    base\n",
        "        .mark_line()\n",
        "        .encode(size=alt.condition(~mouse_hover,\n",
        "                                   alt.value(1),\n",
        "                                   alt.value(4)))\n",
        ")\n",
        "\n",
        "tooltips = (\n",
        "    base\n",
        "        .mark_text(align='left',\n",
        "                   dx=10,\n",
        "                   dy=-10)\n",
        "        .encode(text=alt.condition(mouse_hover,\n",
        "                                   'tooltips:N',\n",
        "                                   alt.value('')))\n",
        ")\n",
        "\n",
        "rule = (\n",
        "    base\n",
        "        .mark_line(strokeDash=(20, 10))\n",
        "        .encode(x='Season:O',\n",
        "                y='thresh:Q',\n",
        "                color=alt.value('purple'))\n",
        ")\n",
        "\n",
        "points + lines + tooltips + rule"
      ],
      "execution_count": 0,
      "outputs": [
        {
          "output_type": "execute_result",
          "data": {
            "text/plain": [
              "alt.LayerChart(...)"
            ],
            "text/html": [
              "<!DOCTYPE html>\n",
              "<html>\n",
              "<head>\n",
              "  <style>\n",
              "    .vega-actions a {\n",
              "        margin-right: 12px;\n",
              "        color: #757575;\n",
              "        font-weight: normal;\n",
              "        font-size: 13px;\n",
              "    }\n",
              "    .error {\n",
              "        color: red;\n",
              "    }\n",
              "  </style>\n",
              "  <script type=\"text/javascript\" src=\"https://cdn.jsdelivr.net/npm//vega@5\"></script>\n",
              "  <script type=\"text/javascript\" src=\"https://cdn.jsdelivr.net/npm//vega-lite@3.4.0\"></script>\n",
              "  <script type=\"text/javascript\" src=\"https://cdn.jsdelivr.net/npm//vega-embed@4\"></script>\n",
              "</head>\n",
              "<body>\n",
              "  <div id=\"altair-viz\"></div>\n",
              "  <script>\n",
              "    (function(vegaEmbed) {\n",
              "      var spec = {\"config\": {\"view\": {\"width\": 400, \"height\": 300}, \"mark\": {\"tooltip\": null}}, \"layer\": [{\"mark\": \"circle\", \"encoding\": {\"color\": {\"type\": \"nominal\", \"field\": \"League\"}, \"opacity\": {\"value\": 0}, \"x\": {\"type\": \"ordinal\", \"field\": \"Season\", \"title\": \"\"}, \"y\": {\"type\": \"quantitative\", \"field\": \"Pct Upsets\", \"scale\": {\"domain\": [0.35, 0.55]}, \"title\": \"% Upsets\"}}, \"height\": 500, \"selection\": {\"selector001\": {\"type\": \"single\", \"on\": \"mouseover\", \"nearest\": true, \"fields\": [\"League\"]}}, \"title\": \"Hover over chart lines to highlight\", \"width\": 800}, {\"mark\": \"line\", \"encoding\": {\"color\": {\"type\": \"nominal\", \"field\": \"League\"}, \"size\": {\"condition\": {\"value\": 1, \"selection\": {\"not\": \"selector001\"}}, \"value\": 4}, \"x\": {\"type\": \"ordinal\", \"field\": \"Season\", \"title\": \"\"}, \"y\": {\"type\": \"quantitative\", \"field\": \"Pct Upsets\", \"scale\": {\"domain\": [0.35, 0.55]}, \"title\": \"% Upsets\"}}, \"height\": 500, \"title\": \"Hover over chart lines to highlight\", \"width\": 800}, {\"mark\": {\"type\": \"text\", \"align\": \"left\", \"dx\": 10, \"dy\": -10}, \"encoding\": {\"color\": {\"type\": \"nominal\", \"field\": \"League\"}, \"text\": {\"condition\": {\"type\": \"nominal\", \"field\": \"tooltips\", \"selection\": \"selector001\"}, \"value\": \"\"}, \"x\": {\"type\": \"ordinal\", \"field\": \"Season\", \"title\": \"\"}, \"y\": {\"type\": \"quantitative\", \"field\": \"Pct Upsets\", \"scale\": {\"domain\": [0.35, 0.55]}, \"title\": \"% Upsets\"}}, \"height\": 500, \"title\": \"Hover over chart lines to highlight\", \"width\": 800}, {\"mark\": {\"type\": \"line\", \"strokeDash\": [20, 10]}, \"encoding\": {\"color\": {\"value\": \"purple\"}, \"x\": {\"type\": \"ordinal\", \"field\": \"Season\"}, \"y\": {\"type\": \"quantitative\", \"field\": \"thresh\"}}, \"height\": 500, \"title\": \"Hover over chart lines to highlight\", \"width\": 800}], \"data\": {\"name\": \"data-de8ef3afa918b94571bd959ed3e25f56\"}, \"$schema\": \"https://vega.github.io/schema/vega-lite/v3.4.0.json\", \"datasets\": {\"data-de8ef3afa918b94571bd959ed3e25f56\": [{\"League\": \"EPL\", \"Season\": \"2018\", \"Pct Upsets\": 0.4105263157894737, \"thresh\": 0.5, \"tooltips\": \"41.1%\"}, {\"League\": \"EPL\", \"Season\": \"2017\", \"Pct Upsets\": 0.4473684210526316, \"thresh\": 0.5, \"tooltips\": \"44.7%\"}, {\"League\": \"EPL\", \"Season\": \"2016\", \"Pct Upsets\": 0.39210526315789473, \"thresh\": 0.5, \"tooltips\": \"39.2%\"}, {\"League\": \"EPL\", \"Season\": \"2015\", \"Pct Upsets\": 0.5289473684210526, \"thresh\": 0.5, \"tooltips\": \"52.9%\"}, {\"League\": \"EPL\", \"Season\": \"2014\", \"Pct Upsets\": 0.46578947368421053, \"thresh\": 0.5, \"tooltips\": \"46.6%\"}, {\"League\": \"EPL\", \"Season\": \"2013\", \"Pct Upsets\": 0.3973684210526316, \"thresh\": 0.5, \"tooltips\": \"39.7%\"}, {\"League\": \"EPL\", \"Season\": \"2012\", \"Pct Upsets\": 0.46842105263157896, \"thresh\": 0.5, \"tooltips\": \"46.8%\"}, {\"League\": \"EPL\", \"Season\": \"2011\", \"Pct Upsets\": 0.4789473684210526, \"thresh\": 0.5, \"tooltips\": \"47.9%\"}, {\"League\": \"EPL\", \"Season\": \"2010\", \"Pct Upsets\": 0.48947368421052634, \"thresh\": 0.5, \"tooltips\": \"48.9%\"}, {\"League\": \"EPL\", \"Season\": \"2009\", \"Pct Upsets\": 0.44473684210526315, \"thresh\": 0.5, \"tooltips\": \"44.5%\"}, {\"League\": \"La Liga\", \"Season\": \"2018\", \"Pct Upsets\": 0.5184210526315789, \"thresh\": 0.5, \"tooltips\": \"51.8%\"}, {\"League\": \"La Liga\", \"Season\": \"2017\", \"Pct Upsets\": 0.45263157894736844, \"thresh\": 0.5, \"tooltips\": \"45.3%\"}, {\"League\": \"La Liga\", \"Season\": \"2016\", \"Pct Upsets\": 0.41578947368421054, \"thresh\": 0.5, \"tooltips\": \"41.6%\"}, {\"League\": \"La Liga\", \"Season\": \"2015\", \"Pct Upsets\": 0.45263157894736844, \"thresh\": 0.5, \"tooltips\": \"45.3%\"}, {\"League\": \"La Liga\", \"Season\": \"2014\", \"Pct Upsets\": 0.43157894736842106, \"thresh\": 0.5, \"tooltips\": \"43.2%\"}, {\"League\": \"La Liga\", \"Season\": \"2013\", \"Pct Upsets\": 0.4631578947368421, \"thresh\": 0.5, \"tooltips\": \"46.3%\"}, {\"League\": \"La Liga\", \"Season\": \"2012\", \"Pct Upsets\": 0.45526315789473687, \"thresh\": 0.5, \"tooltips\": \"45.5%\"}, {\"League\": \"La Liga\", \"Season\": \"2011\", \"Pct Upsets\": 0.46578947368421053, \"thresh\": 0.5, \"tooltips\": \"46.6%\"}, {\"League\": \"La Liga\", \"Season\": \"2010\", \"Pct Upsets\": 0.39210526315789473, \"thresh\": 0.5, \"tooltips\": \"39.2%\"}, {\"League\": \"La Liga\", \"Season\": \"2009\", \"Pct Upsets\": 0.41842105263157897, \"thresh\": 0.5, \"tooltips\": \"41.8%\"}, {\"League\": \"Serie A\", \"Season\": \"2018\", \"Pct Upsets\": 0.45263157894736844, \"thresh\": 0.5, \"tooltips\": \"45.3%\"}, {\"League\": \"Serie A\", \"Season\": \"2017\", \"Pct Upsets\": 0.4052631578947368, \"thresh\": 0.5, \"tooltips\": \"40.5%\"}, {\"League\": \"Serie A\", \"Season\": \"2016\", \"Pct Upsets\": 0.38421052631578945, \"thresh\": 0.5, \"tooltips\": \"38.4%\"}, {\"League\": \"Serie A\", \"Season\": \"2015\", \"Pct Upsets\": 0.4631578947368421, \"thresh\": 0.5, \"tooltips\": \"46.3%\"}, {\"League\": \"Serie A\", \"Season\": \"2014\", \"Pct Upsets\": 0.531578947368421, \"thresh\": 0.5, \"tooltips\": \"53.2%\"}, {\"League\": \"Serie A\", \"Season\": \"2013\", \"Pct Upsets\": 0.4236842105263158, \"thresh\": 0.5, \"tooltips\": \"42.4%\"}, {\"League\": \"Serie A\", \"Season\": \"2012\", \"Pct Upsets\": 0.45187165775401067, \"thresh\": 0.5, \"tooltips\": \"45.2%\"}, {\"League\": \"Serie A\", \"Season\": \"2011\", \"Pct Upsets\": 0.5039787798408488, \"thresh\": 0.5, \"tooltips\": \"50.4%\"}, {\"League\": \"Serie A\", \"Season\": \"2010\", \"Pct Upsets\": 0.48655913978494625, \"thresh\": 0.5, \"tooltips\": \"48.7%\"}, {\"League\": \"Serie A\", \"Season\": \"2009\", \"Pct Upsets\": 0.45187165775401067, \"thresh\": 0.5, \"tooltips\": \"45.2%\"}, {\"League\": \"Bundesliga\", \"Season\": \"2018\", \"Pct Upsets\": 0.4673202614379085, \"thresh\": 0.5, \"tooltips\": \"46.7%\"}, {\"League\": \"Bundesliga\", \"Season\": \"2017\", \"Pct Upsets\": 0.5, \"thresh\": 0.5, \"tooltips\": \"50.0%\"}, {\"League\": \"Bundesliga\", \"Season\": \"2016\", \"Pct Upsets\": 0.4869281045751634, \"thresh\": 0.5, \"tooltips\": \"48.7%\"}, {\"League\": \"Bundesliga\", \"Season\": \"2015\", \"Pct Upsets\": 0.4673202614379085, \"thresh\": 0.5, \"tooltips\": \"46.7%\"}, {\"League\": \"Bundesliga\", \"Season\": \"2014\", \"Pct Upsets\": 0.48366013071895425, \"thresh\": 0.5, \"tooltips\": \"48.4%\"}, {\"League\": \"Bundesliga\", \"Season\": \"2013\", \"Pct Upsets\": 0.45098039215686275, \"thresh\": 0.5, \"tooltips\": \"45.1%\"}, {\"League\": \"Bundesliga\", \"Season\": \"2012\", \"Pct Upsets\": 0.5065359477124183, \"thresh\": 0.5, \"tooltips\": \"50.7%\"}, {\"League\": \"Bundesliga\", \"Season\": \"2011\", \"Pct Upsets\": 0.4869281045751634, \"thresh\": 0.5, \"tooltips\": \"48.7%\"}, {\"League\": \"Bundesliga\", \"Season\": \"2010\", \"Pct Upsets\": 0.5163398692810458, \"thresh\": 0.5, \"tooltips\": \"51.6%\"}, {\"League\": \"Bundesliga\", \"Season\": \"2009\", \"Pct Upsets\": 0.5065359477124183, \"thresh\": 0.5, \"tooltips\": \"50.7%\"}, {\"League\": \"Ligue 1\", \"Season\": \"2018\", \"Pct Upsets\": 0.5131578947368421, \"thresh\": 0.5, \"tooltips\": \"51.3%\"}, {\"League\": \"Ligue 1\", \"Season\": \"2017\", \"Pct Upsets\": 0.45263157894736844, \"thresh\": 0.5, \"tooltips\": \"45.3%\"}, {\"League\": \"Ligue 1\", \"Season\": \"2016\", \"Pct Upsets\": 0.45789473684210524, \"thresh\": 0.5, \"tooltips\": \"45.8%\"}, {\"League\": \"Ligue 1\", \"Season\": \"2015\", \"Pct Upsets\": 0.5078947368421053, \"thresh\": 0.5, \"tooltips\": \"50.8%\"}, {\"League\": \"Ligue 1\", \"Season\": \"2014\", \"Pct Upsets\": 0.45, \"thresh\": 0.5, \"tooltips\": \"45.0%\"}, {\"League\": \"Ligue 1\", \"Season\": \"2013\", \"Pct Upsets\": 0.4763157894736842, \"thresh\": 0.5, \"tooltips\": \"47.6%\"}, {\"League\": \"Ligue 1\", \"Season\": \"2012\", \"Pct Upsets\": 0.48284960422163586, \"thresh\": 0.5, \"tooltips\": \"48.3%\"}, {\"League\": \"Ligue 1\", \"Season\": \"2011\", \"Pct Upsets\": 0.4868421052631579, \"thresh\": 0.5, \"tooltips\": \"48.7%\"}, {\"League\": \"Ligue 1\", \"Season\": \"2010\", \"Pct Upsets\": 0.5473684210526316, \"thresh\": 0.5, \"tooltips\": \"54.7%\"}, {\"League\": \"Ligue 1\", \"Season\": \"2009\", \"Pct Upsets\": 0.4921052631578947, \"thresh\": 0.5, \"tooltips\": \"49.2%\"}]}};\n",
              "      var embedOpt = {\"mode\": \"vega-lite\"};\n",
              "\n",
              "      function showError(el, error){\n",
              "          el.innerHTML = ('<div class=\"error\" style=\"color:red;\">'\n",
              "                          + '<p>JavaScript Error: ' + error.message + '</p>'\n",
              "                          + \"<p>This usually means there's a typo in your chart specification. \"\n",
              "                          + \"See the javascript console for the full traceback.</p>\"\n",
              "                          + '</div>');\n",
              "          throw error;\n",
              "      }\n",
              "      const el = document.getElementById('altair-viz');\n",
              "      vegaEmbed(\"#altair-viz\", spec, embedOpt)\n",
              "        .catch(error => showError(el, error));\n",
              "    })(vegaEmbed);\n",
              "\n",
              "  </script>\n",
              "</body>\n",
              "</html>"
            ]
          },
          "metadata": {
            "tags": []
          },
          "execution_count": 10
        }
      ]
    },
    {
      "cell_type": "markdown",
      "metadata": {
        "id": "g0Q_VXI15jcl",
        "colab_type": "text"
      },
      "source": [
        "As shown in the chart above, upset percentages vary across leagues each season. It is interesting to note that upset percentages are greater than 50% at least once in every league. Bundesliga and Ligue 1 each contain 3 seasons with an upset percentage over 50%. EPL (Leicester City's title season of course!) and La Liga each have one season over 50% Not sure if this is more an indicator of league balance or an indicator of how poor the odds makers are.\n",
        "\n",
        "Below is a chart of the aggregated average of upsets for each league over the last 10 seasons. Bundesliga and Ligue 1 have the highest average percentage of upsets, suggesting that there is more balance across teams. EPL and La Liga have the lowest upset percentage suggesting that these leagues are more dominated by the teams expected to win."
      ]
    },
    {
      "cell_type": "code",
      "metadata": {
        "id": "9kLel83FVidm",
        "colab_type": "code",
        "colab": {}
      },
      "source": [
        "avg_df = pd.DataFrame({\n",
        "  'League': ['EPL', 'La Liga', 'Bundesliga', 'Serie A', 'Ligue 1'],\n",
        "  'Upset Avg 2009-2018': [\n",
        "    chart_df.loc[(chart_df['League'] == 'EPL'), 'Pct Upsets'].aggregate('average'),\n",
        "    chart_df.loc[(chart_df['League'] == 'La Liga'), 'Pct Upsets'].aggregate('average'),\n",
        "    chart_df.loc[(chart_df['League'] == 'Bundesliga'), 'Pct Upsets'].aggregate('average'),\n",
        "    chart_df.loc[(chart_df['League'] == 'Serie A'), 'Pct Upsets'].aggregate('average'),\n",
        "    chart_df.loc[(chart_df['League'] == 'Ligue 1'), 'Pct Upsets'].aggregate('average'),\n",
        "  ]\n",
        "})"
      ],
      "execution_count": 0,
      "outputs": []
    },
    {
      "cell_type": "code",
      "metadata": {
        "id": "o3N91Bi4XS01",
        "colab_type": "code",
        "outputId": "6c0cde04-4bb0-44f6-c07e-8b784b051234",
        "colab": {
          "base_uri": "https://localhost:8080/",
          "height": 401
        }
      },
      "source": [
        "avg_chart = (\n",
        "    alt.Chart(avg_df)\n",
        "        .properties(width=600)\n",
        "        .mark_bar()\n",
        "        .encode(x=alt.X(shorthand='League:O',\n",
        "                        title='',\n",
        "                        sort=alt.EncodingSortField(field='Upset Avg 2009-2018',\n",
        "                                                   order='descending')),\n",
        "                y='Upset Avg 2009-2018:Q',\n",
        "                color='League:N')\n",
        ")\n",
        "\n",
        "labels = (\n",
        "    avg_chart\n",
        "        .mark_text(dy=-10,\n",
        "                   size=20)\n",
        "        .encode(text=alt.Text(shorthand='Upset Avg 2009-2018:Q',\n",
        "                              format='.2f'))\n",
        ")\n",
        "\n",
        "avg_chart + labels"
      ],
      "execution_count": 0,
      "outputs": [
        {
          "output_type": "execute_result",
          "data": {
            "text/plain": [
              "alt.LayerChart(...)"
            ],
            "text/html": [
              "<!DOCTYPE html>\n",
              "<html>\n",
              "<head>\n",
              "  <style>\n",
              "    .vega-actions a {\n",
              "        margin-right: 12px;\n",
              "        color: #757575;\n",
              "        font-weight: normal;\n",
              "        font-size: 13px;\n",
              "    }\n",
              "    .error {\n",
              "        color: red;\n",
              "    }\n",
              "  </style>\n",
              "  <script type=\"text/javascript\" src=\"https://cdn.jsdelivr.net/npm//vega@5\"></script>\n",
              "  <script type=\"text/javascript\" src=\"https://cdn.jsdelivr.net/npm//vega-lite@3.4.0\"></script>\n",
              "  <script type=\"text/javascript\" src=\"https://cdn.jsdelivr.net/npm//vega-embed@4\"></script>\n",
              "</head>\n",
              "<body>\n",
              "  <div id=\"altair-viz\"></div>\n",
              "  <script>\n",
              "    (function(vegaEmbed) {\n",
              "      var spec = {\"config\": {\"view\": {\"width\": 400, \"height\": 300}, \"mark\": {\"tooltip\": null}}, \"layer\": [{\"mark\": \"bar\", \"encoding\": {\"color\": {\"type\": \"nominal\", \"field\": \"League\"}, \"x\": {\"type\": \"ordinal\", \"field\": \"League\", \"sort\": {\"field\": \"Upset Avg 2009-2018\", \"order\": \"descending\"}, \"title\": \"\"}, \"y\": {\"type\": \"quantitative\", \"field\": \"Upset Avg 2009-2018\"}}, \"width\": 600}, {\"mark\": {\"type\": \"text\", \"dy\": -10, \"size\": 20}, \"encoding\": {\"color\": {\"type\": \"nominal\", \"field\": \"League\"}, \"text\": {\"type\": \"quantitative\", \"field\": \"Upset Avg 2009-2018\", \"format\": \".2f\"}, \"x\": {\"type\": \"ordinal\", \"field\": \"League\", \"sort\": {\"field\": \"Upset Avg 2009-2018\", \"order\": \"descending\"}, \"title\": \"\"}, \"y\": {\"type\": \"quantitative\", \"field\": \"Upset Avg 2009-2018\"}}, \"width\": 600}], \"data\": {\"name\": \"data-d7549fb6146049e50dbb16c7d917f656\"}, \"$schema\": \"https://vega.github.io/schema/vega-lite/v3.4.0.json\", \"datasets\": {\"data-d7549fb6146049e50dbb16c7d917f656\": [{\"League\": \"EPL\", \"Upset Avg 2009-2018\": 0.45236842105263164}, {\"League\": \"La Liga\", \"Upset Avg 2009-2018\": 0.446578947368421}, {\"League\": \"Bundesliga\", \"Upset Avg 2009-2018\": 0.48725490196078425}, {\"League\": \"Serie A\", \"Upset Avg 2009-2018\": 0.45548075509232905}, {\"League\": \"Ligue 1\", \"Upset Avg 2009-2018\": 0.48670601305374256}]}};\n",
              "      var embedOpt = {\"mode\": \"vega-lite\"};\n",
              "\n",
              "      function showError(el, error){\n",
              "          el.innerHTML = ('<div class=\"error\" style=\"color:red;\">'\n",
              "                          + '<p>JavaScript Error: ' + error.message + '</p>'\n",
              "                          + \"<p>This usually means there's a typo in your chart specification. \"\n",
              "                          + \"See the javascript console for the full traceback.</p>\"\n",
              "                          + '</div>');\n",
              "          throw error;\n",
              "      }\n",
              "      const el = document.getElementById('altair-viz');\n",
              "      vegaEmbed(\"#altair-viz\", spec, embedOpt)\n",
              "        .catch(error => showError(el, error));\n",
              "    })(vegaEmbed);\n",
              "\n",
              "  </script>\n",
              "</body>\n",
              "</html>"
            ]
          },
          "metadata": {
            "tags": []
          },
          "execution_count": 12
        }
      ]
    }
  ]
}